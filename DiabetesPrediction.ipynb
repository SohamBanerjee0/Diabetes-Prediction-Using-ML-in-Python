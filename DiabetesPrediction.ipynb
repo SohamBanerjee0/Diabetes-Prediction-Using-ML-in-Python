{
  "cells": [
    {
      "cell_type": "markdown",
      "metadata": {
        "id": "MJJ1u02lugRS"
      },
      "source": [
        "***Importing Dependencies*** \n"
      ]
    },
    {
      "cell_type": "code",
      "execution_count": 1,
      "metadata": {
        "id": "A7E_1CZwulEh"
      },
      "outputs": [],
      "source": [
        "import numpy as np\n",
        "import pandas as pd\n",
        "import seaborn as sns\n",
        "import matplotlib.pyplot as plt\n",
        "from sklearn.preprocessing import StandardScaler\n",
        "from sklearn.model_selection import train_test_split\n",
        "from sklearn import svm\n",
        "from sklearn.linear_model import LogisticRegression\n",
        "from sklearn.tree import DecisionTreeClassifier\n",
        "from sklearn.metrics import accuracy_score\n",
        "from sklearn.model_selection import GridSearchCV"
      ]
    },
    {
      "cell_type": "markdown",
      "metadata": {
        "id": "CZkoPbMIvJMR"
      },
      "source": [
        "***Data Collection and Analysis***"
      ]
    },
    {
      "cell_type": "code",
      "execution_count": 2,
      "metadata": {
        "colab": {
          "base_uri": "https://localhost:8080/",
          "height": 206
        },
        "id": "rlS3aSG1u6W2",
        "outputId": "f04e3003-3d5c-4788-b8ed-1dc5171b9def"
      },
      "outputs": [
        {
          "output_type": "execute_result",
          "data": {
            "text/html": [
              "<div>\n",
              "<style scoped>\n",
              "    .dataframe tbody tr th:only-of-type {\n",
              "        vertical-align: middle;\n",
              "    }\n",
              "\n",
              "    .dataframe tbody tr th {\n",
              "        vertical-align: top;\n",
              "    }\n",
              "\n",
              "    .dataframe thead th {\n",
              "        text-align: right;\n",
              "    }\n",
              "</style>\n",
              "<table border=\"1\" class=\"dataframe\">\n",
              "  <thead>\n",
              "    <tr style=\"text-align: right;\">\n",
              "      <th></th>\n",
              "      <th>Pregnancies</th>\n",
              "      <th>Glucose</th>\n",
              "      <th>BloodPressure</th>\n",
              "      <th>SkinThickness</th>\n",
              "      <th>Insulin</th>\n",
              "      <th>BMI</th>\n",
              "      <th>DiabetesPedigreeFunction</th>\n",
              "      <th>Age</th>\n",
              "      <th>Outcome</th>\n",
              "    </tr>\n",
              "  </thead>\n",
              "  <tbody>\n",
              "    <tr>\n",
              "      <th>0</th>\n",
              "      <td>6</td>\n",
              "      <td>148</td>\n",
              "      <td>72</td>\n",
              "      <td>35</td>\n",
              "      <td>0</td>\n",
              "      <td>33.6</td>\n",
              "      <td>0.627</td>\n",
              "      <td>50</td>\n",
              "      <td>1</td>\n",
              "    </tr>\n",
              "    <tr>\n",
              "      <th>1</th>\n",
              "      <td>1</td>\n",
              "      <td>85</td>\n",
              "      <td>66</td>\n",
              "      <td>29</td>\n",
              "      <td>0</td>\n",
              "      <td>26.6</td>\n",
              "      <td>0.351</td>\n",
              "      <td>31</td>\n",
              "      <td>0</td>\n",
              "    </tr>\n",
              "    <tr>\n",
              "      <th>2</th>\n",
              "      <td>8</td>\n",
              "      <td>183</td>\n",
              "      <td>64</td>\n",
              "      <td>0</td>\n",
              "      <td>0</td>\n",
              "      <td>23.3</td>\n",
              "      <td>0.672</td>\n",
              "      <td>32</td>\n",
              "      <td>1</td>\n",
              "    </tr>\n",
              "    <tr>\n",
              "      <th>3</th>\n",
              "      <td>1</td>\n",
              "      <td>89</td>\n",
              "      <td>66</td>\n",
              "      <td>23</td>\n",
              "      <td>94</td>\n",
              "      <td>28.1</td>\n",
              "      <td>0.167</td>\n",
              "      <td>21</td>\n",
              "      <td>0</td>\n",
              "    </tr>\n",
              "    <tr>\n",
              "      <th>4</th>\n",
              "      <td>0</td>\n",
              "      <td>137</td>\n",
              "      <td>40</td>\n",
              "      <td>35</td>\n",
              "      <td>168</td>\n",
              "      <td>43.1</td>\n",
              "      <td>2.288</td>\n",
              "      <td>33</td>\n",
              "      <td>1</td>\n",
              "    </tr>\n",
              "  </tbody>\n",
              "</table>\n",
              "</div>"
            ],
            "text/plain": [
              "   Pregnancies  Glucose  BloodPressure  ...  DiabetesPedigreeFunction  Age  Outcome\n",
              "0            6      148             72  ...                     0.627   50        1\n",
              "1            1       85             66  ...                     0.351   31        0\n",
              "2            8      183             64  ...                     0.672   32        1\n",
              "3            1       89             66  ...                     0.167   21        0\n",
              "4            0      137             40  ...                     2.288   33        1\n",
              "\n",
              "[5 rows x 9 columns]"
            ]
          },
          "metadata": {},
          "execution_count": 2
        }
      ],
      "source": [
        "diabetes_dataset = pd.read_csv('/content/diabetes.csv')\n",
        "diabetes_dataset.head()"
      ]
    },
    {
      "cell_type": "code",
      "execution_count": 3,
      "metadata": {
        "id": "B6HKTqgmvgLZ",
        "colab": {
          "base_uri": "https://localhost:8080/"
        },
        "outputId": "127f697e-41d4-4df3-b766-2953ad159e27"
      },
      "outputs": [
        {
          "output_type": "execute_result",
          "data": {
            "text/plain": [
              "(768, 9)"
            ]
          },
          "metadata": {},
          "execution_count": 3
        }
      ],
      "source": [
        "diabetes_dataset.shape"
      ]
    },
    {
      "cell_type": "code",
      "execution_count": 4,
      "metadata": {
        "id": "MoctXMblvt5O",
        "colab": {
          "base_uri": "https://localhost:8080/",
          "height": 300
        },
        "outputId": "cf8c7f4a-c064-48a6-db12-0db9defedb0e"
      },
      "outputs": [
        {
          "output_type": "execute_result",
          "data": {
            "text/html": [
              "<div>\n",
              "<style scoped>\n",
              "    .dataframe tbody tr th:only-of-type {\n",
              "        vertical-align: middle;\n",
              "    }\n",
              "\n",
              "    .dataframe tbody tr th {\n",
              "        vertical-align: top;\n",
              "    }\n",
              "\n",
              "    .dataframe thead th {\n",
              "        text-align: right;\n",
              "    }\n",
              "</style>\n",
              "<table border=\"1\" class=\"dataframe\">\n",
              "  <thead>\n",
              "    <tr style=\"text-align: right;\">\n",
              "      <th></th>\n",
              "      <th>Pregnancies</th>\n",
              "      <th>Glucose</th>\n",
              "      <th>BloodPressure</th>\n",
              "      <th>SkinThickness</th>\n",
              "      <th>Insulin</th>\n",
              "      <th>BMI</th>\n",
              "      <th>DiabetesPedigreeFunction</th>\n",
              "      <th>Age</th>\n",
              "      <th>Outcome</th>\n",
              "    </tr>\n",
              "  </thead>\n",
              "  <tbody>\n",
              "    <tr>\n",
              "      <th>count</th>\n",
              "      <td>768.000000</td>\n",
              "      <td>768.000000</td>\n",
              "      <td>768.000000</td>\n",
              "      <td>768.000000</td>\n",
              "      <td>768.000000</td>\n",
              "      <td>768.000000</td>\n",
              "      <td>768.000000</td>\n",
              "      <td>768.000000</td>\n",
              "      <td>768.000000</td>\n",
              "    </tr>\n",
              "    <tr>\n",
              "      <th>mean</th>\n",
              "      <td>3.845052</td>\n",
              "      <td>120.894531</td>\n",
              "      <td>69.105469</td>\n",
              "      <td>20.536458</td>\n",
              "      <td>79.799479</td>\n",
              "      <td>31.992578</td>\n",
              "      <td>0.471876</td>\n",
              "      <td>33.240885</td>\n",
              "      <td>0.348958</td>\n",
              "    </tr>\n",
              "    <tr>\n",
              "      <th>std</th>\n",
              "      <td>3.369578</td>\n",
              "      <td>31.972618</td>\n",
              "      <td>19.355807</td>\n",
              "      <td>15.952218</td>\n",
              "      <td>115.244002</td>\n",
              "      <td>7.884160</td>\n",
              "      <td>0.331329</td>\n",
              "      <td>11.760232</td>\n",
              "      <td>0.476951</td>\n",
              "    </tr>\n",
              "    <tr>\n",
              "      <th>min</th>\n",
              "      <td>0.000000</td>\n",
              "      <td>0.000000</td>\n",
              "      <td>0.000000</td>\n",
              "      <td>0.000000</td>\n",
              "      <td>0.000000</td>\n",
              "      <td>0.000000</td>\n",
              "      <td>0.078000</td>\n",
              "      <td>21.000000</td>\n",
              "      <td>0.000000</td>\n",
              "    </tr>\n",
              "    <tr>\n",
              "      <th>25%</th>\n",
              "      <td>1.000000</td>\n",
              "      <td>99.000000</td>\n",
              "      <td>62.000000</td>\n",
              "      <td>0.000000</td>\n",
              "      <td>0.000000</td>\n",
              "      <td>27.300000</td>\n",
              "      <td>0.243750</td>\n",
              "      <td>24.000000</td>\n",
              "      <td>0.000000</td>\n",
              "    </tr>\n",
              "    <tr>\n",
              "      <th>50%</th>\n",
              "      <td>3.000000</td>\n",
              "      <td>117.000000</td>\n",
              "      <td>72.000000</td>\n",
              "      <td>23.000000</td>\n",
              "      <td>30.500000</td>\n",
              "      <td>32.000000</td>\n",
              "      <td>0.372500</td>\n",
              "      <td>29.000000</td>\n",
              "      <td>0.000000</td>\n",
              "    </tr>\n",
              "    <tr>\n",
              "      <th>75%</th>\n",
              "      <td>6.000000</td>\n",
              "      <td>140.250000</td>\n",
              "      <td>80.000000</td>\n",
              "      <td>32.000000</td>\n",
              "      <td>127.250000</td>\n",
              "      <td>36.600000</td>\n",
              "      <td>0.626250</td>\n",
              "      <td>41.000000</td>\n",
              "      <td>1.000000</td>\n",
              "    </tr>\n",
              "    <tr>\n",
              "      <th>max</th>\n",
              "      <td>17.000000</td>\n",
              "      <td>199.000000</td>\n",
              "      <td>122.000000</td>\n",
              "      <td>99.000000</td>\n",
              "      <td>846.000000</td>\n",
              "      <td>67.100000</td>\n",
              "      <td>2.420000</td>\n",
              "      <td>81.000000</td>\n",
              "      <td>1.000000</td>\n",
              "    </tr>\n",
              "  </tbody>\n",
              "</table>\n",
              "</div>"
            ],
            "text/plain": [
              "       Pregnancies     Glucose  ...         Age     Outcome\n",
              "count   768.000000  768.000000  ...  768.000000  768.000000\n",
              "mean      3.845052  120.894531  ...   33.240885    0.348958\n",
              "std       3.369578   31.972618  ...   11.760232    0.476951\n",
              "min       0.000000    0.000000  ...   21.000000    0.000000\n",
              "25%       1.000000   99.000000  ...   24.000000    0.000000\n",
              "50%       3.000000  117.000000  ...   29.000000    0.000000\n",
              "75%       6.000000  140.250000  ...   41.000000    1.000000\n",
              "max      17.000000  199.000000  ...   81.000000    1.000000\n",
              "\n",
              "[8 rows x 9 columns]"
            ]
          },
          "metadata": {},
          "execution_count": 4
        }
      ],
      "source": [
        "diabetes_dataset.describe()"
      ]
    },
    {
      "cell_type": "code",
      "execution_count": 5,
      "metadata": {
        "id": "C4IQ6Ka7vyNr",
        "colab": {
          "base_uri": "https://localhost:8080/"
        },
        "outputId": "646fbba5-967d-4d66-c0d2-9a084971a108"
      },
      "outputs": [
        {
          "output_type": "execute_result",
          "data": {
            "text/plain": [
              "0    500\n",
              "1    268\n",
              "Name: Outcome, dtype: int64"
            ]
          },
          "metadata": {},
          "execution_count": 5
        }
      ],
      "source": [
        "diabetes_dataset['Outcome'].value_counts()"
      ]
    },
    {
      "cell_type": "code",
      "execution_count": 6,
      "metadata": {
        "id": "8_Be3T7cv3MP",
        "colab": {
          "base_uri": "https://localhost:8080/"
        },
        "outputId": "23cbbf54-fbf8-43a0-99f2-7a2f070fb997"
      },
      "outputs": [
        {
          "output_type": "execute_result",
          "data": {
            "text/plain": [
              "Pregnancies                 0\n",
              "Glucose                     0\n",
              "BloodPressure               0\n",
              "SkinThickness               0\n",
              "Insulin                     0\n",
              "BMI                         0\n",
              "DiabetesPedigreeFunction    0\n",
              "Age                         0\n",
              "Outcome                     0\n",
              "dtype: int64"
            ]
          },
          "metadata": {},
          "execution_count": 6
        }
      ],
      "source": [
        "diabetes_dataset.isnull().sum()"
      ]
    },
    {
      "cell_type": "markdown",
      "source": [
        "***Heat Map Generation and Finding out the Corelation between independent variables***"
      ],
      "metadata": {
        "id": "FYB0GNScBbgz"
      }
    },
    {
      "cell_type": "code",
      "source": [
        "correlation = diabetes_dataset.corr()\n",
        "plt.figure(figsize=(10,10))\n",
        "sns.heatmap(correlation, cbar=True, square=True, fmt='.1f', annot=True, annot_kws={'size':8}, cmap='YlOrBr')"
      ],
      "metadata": {
        "id": "xJAPeE5VBlEZ",
        "colab": {
          "base_uri": "https://localhost:8080/",
          "height": 684
        },
        "outputId": "e7a98077-0f0e-48da-93eb-035ad15119c5"
      },
      "execution_count": 7,
      "outputs": [
        {
          "output_type": "execute_result",
          "data": {
            "text/plain": [
              "<matplotlib.axes._subplots.AxesSubplot at 0x7fa993a03ad0>"
            ]
          },
          "metadata": {},
          "execution_count": 7
        },
        {
          "output_type": "display_data",
          "data": {
            "image/png": "[encoded data removed]",
            "text/plain": [
              "<Figure size 720x720 with 2 Axes>"
            ]
          },
          "metadata": {
            "needs_background": "light"
          }
        }
      ]
    },
    {
      "cell_type": "code",
      "execution_count": 8,
      "metadata": {
        "id": "9craJVRGv_76"
      },
      "outputs": [],
      "source": [
        "X=diabetes_dataset.drop(columns='Outcome',axis = 1)\n",
        "Y=diabetes_dataset['Outcome']"
      ]
    },
    {
      "cell_type": "code",
      "execution_count": 9,
      "metadata": {
        "id": "w_SP2gJGwLaA",
        "colab": {
          "base_uri": "https://localhost:8080/"
        },
        "outputId": "ba42f448-5dd8-4f22-c5d9-f9bbd86128e6"
      },
      "outputs": [
        {
          "output_type": "stream",
          "name": "stdout",
          "text": [
            "     Pregnancies  Glucose  BloodPressure  ...   BMI  DiabetesPedigreeFunction  Age\n",
            "0              6      148             72  ...  33.6                     0.627   50\n",
            "1              1       85             66  ...  26.6                     0.351   31\n",
            "2              8      183             64  ...  23.3                     0.672   32\n",
            "3              1       89             66  ...  28.1                     0.167   21\n",
            "4              0      137             40  ...  43.1                     2.288   33\n",
            "..           ...      ...            ...  ...   ...                       ...  ...\n",
            "763           10      101             76  ...  32.9                     0.171   63\n",
            "764            2      122             70  ...  36.8                     0.340   27\n",
            "765            5      121             72  ...  26.2                     0.245   30\n",
            "766            1      126             60  ...  30.1                     0.349   47\n",
            "767            1       93             70  ...  30.4                     0.315   23\n",
            "\n",
            "[768 rows x 8 columns]\n",
            "0      1\n",
            "1      0\n",
            "2      1\n",
            "3      0\n",
            "4      1\n",
            "      ..\n",
            "763    0\n",
            "764    0\n",
            "765    0\n",
            "766    1\n",
            "767    0\n",
            "Name: Outcome, Length: 768, dtype: int64\n"
          ]
        }
      ],
      "source": [
        "print(X)\n",
        "print(Y)"
      ]
    },
    {
      "cell_type": "code",
      "execution_count": 10,
      "metadata": {
        "id": "lrQy2IPuwPSd",
        "colab": {
          "base_uri": "https://localhost:8080/"
        },
        "outputId": "719c1b25-f20d-450c-ebb2-e8c209a3107e"
      },
      "outputs": [
        {
          "output_type": "stream",
          "name": "stdout",
          "text": [
            "(768, 8)\n",
            "(768,)\n"
          ]
        }
      ],
      "source": [
        "print(X.shape)\n",
        "print(Y.shape)"
      ]
    },
    {
      "cell_type": "markdown",
      "metadata": {
        "id": "Jmrh3bzPwZrZ"
      },
      "source": [
        "***Data Standardization***"
      ]
    },
    {
      "cell_type": "code",
      "execution_count": 11,
      "metadata": {
        "id": "a4fU9JALwVOn"
      },
      "outputs": [],
      "source": [
        "#scaler=StandardScaler()\n",
        "#scaler.fit(X)\n",
        "#standardized_data=scaler.transform(X)\n",
        "#print(standardized_data)\n",
        "#X=standardized_data\n",
        "#Y=diabetes_dataset['Outcome']\n",
        "#print(X)\n",
        "#print(Y)"
      ]
    },
    {
      "cell_type": "markdown",
      "source": [
        "***Model Creation for different algorithms***\n"
      ],
      "metadata": {
        "id": "pvUo_0DHsZO6"
      }
    },
    {
      "cell_type": "code",
      "source": [
        "LogisticRegressionModel=LogisticRegression(solver=\"liblinear\" , max_iter=100)\n",
        "#DecisionTreeClassifierModel=DecisionTreeClassifier()\n",
        "#ClassifierModel=svm.SVC(kernel='linear')\n"
      ],
      "metadata": {
        "id": "DPmnPHmcsdTS"
      },
      "execution_count": 12,
      "outputs": []
    },
    {
      "cell_type": "markdown",
      "metadata": {
        "id": "s0xeLQgCw-VU"
      },
      "source": [
        "***Splitting the Data***"
      ]
    },
    {
      "cell_type": "markdown",
      "source": [
        "***0.025 --> 1.0 Accuracy\n",
        "   0.035 --> 0.96 Accuracy***"
      ],
      "metadata": {
        "id": "Nd0ADAYL_GRL"
      }
    },
    {
      "cell_type": "code",
      "execution_count": 13,
      "metadata": {
        "id": "5Tk9jYPEwyc_",
        "colab": {
          "base_uri": "https://localhost:8080/"
        },
        "outputId": "d7b94baf-6fdf-4a34-8d8e-597bd8bcaeb8"
      },
      "outputs": [
        {
          "output_type": "stream",
          "name": "stdout",
          "text": [
            "(768, 8) (741, 8) (27, 8)\n",
            "0      1\n",
            "1      0\n",
            "2      1\n",
            "3      0\n",
            "4      1\n",
            "      ..\n",
            "763    0\n",
            "764    0\n",
            "765    0\n",
            "766    1\n",
            "767    0\n",
            "Name: Outcome, Length: 768, dtype: int64\n"
          ]
        }
      ],
      "source": [
        "X_train,x_test,Y_train,y_test=train_test_split(X,Y,test_size=0.035,random_state=0)\n",
        "print(X.shape,X_train.shape,x_test.shape)\n",
        "print(Y)\n",
        "\n",
        "#K-Fold Cross Validation\n",
        "#from sklearn.model_selection import KFold\n",
        "#kfold_validation1=KFold(30)\n",
        "#10 different splits with different random states\n",
        "#from sklearn.model_selection import cross_val_score\n",
        "#results1=cross_val_score(ClassifierModel,X,Y,cv=kfold_validation)\n",
        "#results2=cross_val_score(LogisticRegressionModel,X,Y,cv=kfold_validation)\n",
        "#results3=cross_val_score(DecisionTreeClassifierModel,X,Y,cv=kfold_validation)\n",
        "#print('SVM = ',results1)\n",
        "#print('Logistic Regression',results2)\n",
        "#print('Decision Tree Classifier',results3)\n",
        "#print(np.mean(results1))\n",
        "#print(np.mean(results2))\n",
        "#print(np.mean(results3))\n"
      ]
    },
    {
      "cell_type": "markdown",
      "source": [
        "**Using the above cell we find out that the Logistic Regression Model is more accurate when compared with SVM and Decision Tree Classifier. \n",
        "Later down the line we will further use Hyper Parameter Tuning to further increase the accuracy**"
      ],
      "metadata": {
        "id": "7c9CmQwgvku2"
      }
    },
    {
      "cell_type": "markdown",
      "metadata": {
        "id": "3IxyWWnHxx-E"
      },
      "source": [
        "***Training the Model***"
      ]
    },
    {
      "cell_type": "code",
      "source": [
        "LogisticRegressionModel.fit(X_train,Y_train)"
      ],
      "metadata": {
        "id": "AuBpsLiPwSsO",
        "colab": {
          "base_uri": "https://localhost:8080/"
        },
        "outputId": "81d286ed-adbb-439e-fb24-5ee83e5ed8ca"
      },
      "execution_count": 14,
      "outputs": [
        {
          "output_type": "execute_result",
          "data": {
            "text/plain": [
              "LogisticRegression(solver='liblinear')"
            ]
          },
          "metadata": {},
          "execution_count": 14
        }
      ]
    },
    {
      "cell_type": "markdown",
      "metadata": {
        "id": "v9PspZZyyJQp"
      },
      "source": [
        "***Evaluation the Model***"
      ]
    },
    {
      "cell_type": "code",
      "execution_count": 15,
      "metadata": {
        "id": "dQJpJQiPyEa6",
        "colab": {
          "base_uri": "https://localhost:8080/"
        },
        "outputId": "c9c67795-f742-4eb0-df6e-f04373f4c741"
      },
      "outputs": [
        {
          "output_type": "stream",
          "name": "stdout",
          "text": [
            "0.7705802968960864\n"
          ]
        }
      ],
      "source": [
        "#Prediction on training data\n",
        "predict1=LogisticRegressionModel.predict(X_train)\n",
        "training_data_accuracy_score=accuracy_score(predict1,Y_train)\n",
        "print(training_data_accuracy_score)"
      ]
    },
    {
      "cell_type": "code",
      "execution_count": 16,
      "metadata": {
        "id": "AGWeDzXzyiQZ",
        "colab": {
          "base_uri": "https://localhost:8080/"
        },
        "outputId": "91bf08c1-4536-4a31-cec7-352648b38f54"
      },
      "outputs": [
        {
          "output_type": "stream",
          "name": "stdout",
          "text": [
            "0.9629629629629629\n"
          ]
        }
      ],
      "source": [
        "#Prediction on test data\n",
        "predict2=LogisticRegressionModel.predict(x_test)\n",
        "test_data_accuracy_score=accuracy_score(predict2,y_test)\n",
        "print(test_data_accuracy_score)"
      ]
    },
    {
      "cell_type": "markdown",
      "metadata": {
        "id": "ObImE94LzNZO"
      },
      "source": [
        "***Making a Predictive System***"
      ]
    },
    {
      "cell_type": "code",
      "execution_count": 17,
      "metadata": {
        "id": "9NQOgAhXywB6",
        "colab": {
          "base_uri": "https://localhost:8080/"
        },
        "outputId": "01bc111f-ce98-422a-9123-84fa205a0a53"
      },
      "outputs": [
        {
          "output_type": "stream",
          "name": "stdout",
          "text": [
            "Patient is Diabetic\n"
          ]
        },
        {
          "output_type": "stream",
          "name": "stderr",
          "text": [
            "/usr/local/lib/python3.7/dist-packages/sklearn/base.py:446: UserWarning: X does not have valid feature names, but LogisticRegression was fitted with feature names\n",
            "  \"X does not have valid feature names, but\"\n"
          ]
        }
      ],
      "source": [
        "#OLD WITHOUT HYPER PARAMETERS\n",
        "input_data=(6,148,72,35,0,33.6,0.627,50)\n",
        "input_data_numpy=np.asarray(input_data)\n",
        "input_data_reshaped=input_data_numpy.reshape(1,-1)\n",
        "#print(input_data_reshaped)\n",
        "predict=LogisticRegressionModel.predict(input_data_reshaped)\n",
        "#print(predict)\n",
        "if(predict[0]==0):\n",
        "  print(\"Patient is Not Diabetic\")\n",
        "else:\n",
        "  print(\"Patient is Diabetic\")"
      ]
    },
    {
      "cell_type": "code",
      "execution_count": 17,
      "metadata": {
        "id": "2e_9NnZ_zzMD"
      },
      "outputs": [],
      "source": [
        ""
      ]
    },
    {
      "cell_type": "markdown",
      "metadata": {
        "id": "eUIdRlRv_EOV"
      },
      "source": [
        "***Hyperparameter Tuning***\n"
      ]
    },
    {
      "cell_type": "markdown",
      "source": [
        "Code Snippet below written by Author Enes Polat https://www.kaggle.com/enespolat\n"
      ],
      "metadata": {
        "id": "A9ElsXJKzSZI"
      }
    },
    {
      "cell_type": "code",
      "execution_count": 18,
      "metadata": {
        "id": "Zm6WkORq7H-T",
        "colab": {
          "base_uri": "https://localhost:8080/"
        },
        "outputId": "d75864c3-12b2-45cf-b5ac-22ff96a6dbbf"
      },
      "outputs": [
        {
          "output_type": "stream",
          "name": "stderr",
          "text": [
            "/usr/local/lib/python3.7/dist-packages/sklearn/model_selection/_split.py:680: UserWarning: The least populated class in y has only 9 members, which is less than n_splits=10.\n",
            "  UserWarning,\n",
            "/usr/local/lib/python3.7/dist-packages/sklearn/svm/_base.py:1208: ConvergenceWarning: Liblinear failed to converge, increase the number of iterations.\n",
            "  ConvergenceWarning,\n",
            "/usr/local/lib/python3.7/dist-packages/sklearn/svm/_base.py:1208: ConvergenceWarning: Liblinear failed to converge, increase the number of iterations.\n",
            "  ConvergenceWarning,\n",
            "/usr/local/lib/python3.7/dist-packages/sklearn/svm/_base.py:1208: ConvergenceWarning: Liblinear failed to converge, increase the number of iterations.\n",
            "  ConvergenceWarning,\n",
            "/usr/local/lib/python3.7/dist-packages/sklearn/svm/_base.py:1208: ConvergenceWarning: Liblinear failed to converge, increase the number of iterations.\n",
            "  ConvergenceWarning,\n",
            "/usr/local/lib/python3.7/dist-packages/sklearn/svm/_base.py:1208: ConvergenceWarning: Liblinear failed to converge, increase the number of iterations.\n",
            "  ConvergenceWarning,\n",
            "/usr/local/lib/python3.7/dist-packages/sklearn/svm/_base.py:1208: ConvergenceWarning: Liblinear failed to converge, increase the number of iterations.\n",
            "  ConvergenceWarning,\n",
            "/usr/local/lib/python3.7/dist-packages/sklearn/svm/_base.py:1208: ConvergenceWarning: Liblinear failed to converge, increase the number of iterations.\n",
            "  ConvergenceWarning,\n",
            "/usr/local/lib/python3.7/dist-packages/sklearn/svm/_base.py:1208: ConvergenceWarning: Liblinear failed to converge, increase the number of iterations.\n",
            "  ConvergenceWarning,\n",
            "/usr/local/lib/python3.7/dist-packages/sklearn/svm/_base.py:1208: ConvergenceWarning: Liblinear failed to converge, increase the number of iterations.\n",
            "  ConvergenceWarning,\n",
            "/usr/local/lib/python3.7/dist-packages/sklearn/svm/_base.py:1208: ConvergenceWarning: Liblinear failed to converge, increase the number of iterations.\n",
            "  ConvergenceWarning,\n",
            "/usr/local/lib/python3.7/dist-packages/sklearn/svm/_base.py:1208: ConvergenceWarning: Liblinear failed to converge, increase the number of iterations.\n",
            "  ConvergenceWarning,\n",
            "/usr/local/lib/python3.7/dist-packages/sklearn/svm/_base.py:1208: ConvergenceWarning: Liblinear failed to converge, increase the number of iterations.\n",
            "  ConvergenceWarning,\n",
            "/usr/local/lib/python3.7/dist-packages/sklearn/svm/_base.py:1208: ConvergenceWarning: Liblinear failed to converge, increase the number of iterations.\n",
            "  ConvergenceWarning,\n"
          ]
        },
        {
          "output_type": "stream",
          "name": "stdout",
          "text": [
            "tuned hpyerparameters :(best parameters)  {'C': 78475997.03514622, 'penalty': 'l1'}\n",
            "accuracy : 1.0\n"
          ]
        }
      ],
      "source": [
        "grid=[{\"C\":np.logspace(-10,10,20), \"penalty\":[\"l1\",\"l2\"]}]# l1 lasso l2 ridge\n",
        "logreg_cv=GridSearchCV(LogisticRegressionModel,grid,cv=10)\n",
        "logreg_cv.fit(x_test,y_test)\n",
        "\n",
        "print(\"tuned hpyerparameters :(best parameters) \",logreg_cv.best_params_)\n",
        "print(\"accuracy :\",logreg_cv.best_score_)"
      ]
    },
    {
      "cell_type": "markdown",
      "source": [
        "**Applying Parameters to the Model**\n"
      ],
      "metadata": {
        "id": "lOsVdN9C7Dd3"
      }
    },
    {
      "cell_type": "code",
      "execution_count": 19,
      "metadata": {
        "id": "VFBJ8DClAZke",
        "colab": {
          "base_uri": "https://localhost:8080/"
        },
        "outputId": "bedbdb38-f5eb-4761-ca5c-ece818c7e2c8"
      },
      "outputs": [
        {
          "output_type": "stream",
          "name": "stdout",
          "text": [
            "0.9629629629629629\n"
          ]
        }
      ],
      "source": [
        "update=LogisticRegression(solver = \"liblinear\", penalty = \"l2\", C=4.799818286283774)\n",
        "update.fit(X_train,Y_train)\n",
        "train_pred=update.predict(X_train)\n",
        "test_pred=update.predict(x_test)\n",
        "score=accuracy_score(test_pred,y_test)\n",
        "print(score)"
      ]
    },
    {
      "cell_type": "markdown",
      "source": [
        "**Newer Prediction Model**"
      ],
      "metadata": {
        "id": "DMTFkj5S7r1T"
      }
    },
    {
      "cell_type": "code",
      "source": [
        "input_data=(1,103,30,38,83,43.3,0.183,33)\n",
        "input_data_numpy=np.asarray(input_data)\n",
        "input_data_reshaped=input_data_numpy.reshape(1,-1)\n",
        "#print(input_data_reshaped)\n",
        "predict1=update.predict(input_data_reshaped)\n",
        "#print(predict)\n",
        "if(predict1[0]==0):\n",
        "  print(\"Patient is Not Diabetic\")\n",
        "else:\n",
        "  print(\"Patient is Diabetic\")"
      ],
      "metadata": {
        "id": "7AkA201n7qdL",
        "colab": {
          "base_uri": "https://localhost:8080/"
        },
        "outputId": "f5779673-4972-42fa-86ae-8b9b34b259c1"
      },
      "execution_count": 20,
      "outputs": [
        {
          "output_type": "stream",
          "name": "stdout",
          "text": [
            "Patient is Not Diabetic\n"
          ]
        },
        {
          "output_type": "stream",
          "name": "stderr",
          "text": [
            "/usr/local/lib/python3.7/dist-packages/sklearn/base.py:446: UserWarning: X does not have valid feature names, but LogisticRegression was fitted with feature names\n",
            "  \"X does not have valid feature names, but\"\n"
          ]
        }
      ]
    },
    {
      "cell_type": "markdown",
      "metadata": {
        "id": "9YAXf3y2_gzo"
      },
      "source": [
        ""
      ]
    }
  ],
  "metadata": {
    "colab": {
      "collapsed_sections": [],
      "name": "DiabetesPrediction.ipynb",
      "provenance": []
    },
    "kernelspec": {
      "display_name": "Python 3",
      "name": "python3"
    },
    "language_info": {
      "name": "python"
    }
  },
  "nbformat": 4,
  "nbformat_minor": 0
}